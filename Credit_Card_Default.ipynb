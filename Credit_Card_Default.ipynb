{
  "nbformat": 4,
  "nbformat_minor": 0,
  "metadata": {
    "colab": {
      "provenance": []
    },
    "kernelspec": {
      "name": "python3",
      "display_name": "Python 3"
    },
    "language_info": {
      "name": "python"
    }
  },
  "cells": [
    {
      "cell_type": "code",
      "execution_count": null,
      "metadata": {
        "colab": {
          "base_uri": "https://localhost:8080/"
        },
        "id": "Vjaxu4ylHZGU",
        "outputId": "762ed32e-45d4-4fc1-ab3b-fb36a266d6ac"
      },
      "outputs": [
        {
          "output_type": "stream",
          "name": "stdout",
          "text": [
            "default payment next month\n",
            "0    23364\n",
            "1     6636\n",
            "Name: count, dtype: int64\n",
            "default payment next month\n",
            "1    6636\n",
            "0    6636\n",
            "Name: count, dtype: int64\n"
          ]
        }
      ],
      "source": [
        "import pandas as pd\n",
        "df=pd.read_excel('/content/drive/MyDrive/Agamjot Kaur/default of credit card clients.xls', header =1)\n",
        "\n",
        "print(df[\"default payment next month\"].value_counts())\n",
        "df_default=df[df['default payment next month']==1]\n",
        "df_non_default=df[df['default payment next month']==0]\n",
        "df_non_default_downsampled = df_non_default.sample(n=len(df_default),random_state=25)\n",
        "df_balanced = pd.concat([df_non_default_downsampled,df_default])\n",
        "df_balanced= df_balanced.sample(frac=1,random_state=49).reset_index(drop=True)\n",
        "\n",
        "print(df_balanced['default payment next month'].value_counts())"
      ]
    },
    {
      "cell_type": "code",
      "source": [
        "import tensorflow as tf\n",
        "from sklearn.model_selection import train_test_split\n",
        "from sklearn.preprocessing import StandardScaler\n",
        "from sklearn.metrics import classification_report,accuracy_score\n",
        "\n",
        "x = df_balanced.drop(['ID','default payment next month'], axis=1)\n",
        "y = df_balanced['default payment next month']\n",
        "\n",
        "x_train, x_test,y_train, y_test= train_test_split(x,y,test_size=0.2,random_state=54)\n",
        "\n",
        "scaler=StandardScaler()\n",
        "x_train = scaler.fit_transform(x_train)\n",
        "x_test = scaler.transform(x_test)\n",
        "\n",
        "model = tf.keras.models.Sequential([\n",
        "    tf.keras.layers.Dense(64,activation='relu',input_shape=(x_train.shape[1],)),\n",
        "    tf.keras.layers.Dropout(0.3),\n",
        "    tf.keras.layers.Dense(32,activation='relu'),\n",
        "    tf.keras.layers.Dropout(0.2),\n",
        "    tf.keras.layers.Dense(1,activation='sigmoid')\n",
        "])\n",
        "\n",
        "model.compile(optimizer='adam', loss = 'binary_crossentropy', metrics=['accuracy'])\n",
        "\n",
        "history = model.fit(x_train,y_train, epochs=30, batch_size=32, validation_split=0.2,verbose=1)\n",
        "\n",
        "y_pred_prob = model.predict(x_test)\n",
        "y_pred = (y_pred_prob > 0.5).astype(\"int32\")\n",
        "\n",
        "print(\"Accuracy :\", accuracy_score(y_test,y_pred))\n",
        "print(\"Classification Report:\\n\",classification_report(y_test,y_pred))"
      ],
      "metadata": {
        "colab": {
          "base_uri": "https://localhost:8080/"
        },
        "collapsed": true,
        "id": "_9OE0YUbRiN1",
        "outputId": "6a8e4525-b6f1-4744-aae3-f011e93d5fcc"
      },
      "execution_count": null,
      "outputs": [
        {
          "output_type": "stream",
          "name": "stdout",
          "text": [
            "Epoch 1/30\n"
          ]
        },
        {
          "output_type": "stream",
          "name": "stderr",
          "text": [
            "/usr/local/lib/python3.11/dist-packages/keras/src/layers/core/dense.py:87: UserWarning: Do not pass an `input_shape`/`input_dim` argument to a layer. When using Sequential models, prefer using an `Input(shape)` object as the first layer in the model instead.\n",
            "  super().__init__(activity_regularizer=activity_regularizer, **kwargs)\n"
          ]
        },
        {
          "output_type": "stream",
          "name": "stdout",
          "text": [
            "\u001b[1m266/266\u001b[0m \u001b[32m━━━━━━━━━━━━━━━━━━━━\u001b[0m\u001b[37m\u001b[0m \u001b[1m3s\u001b[0m 5ms/step - accuracy: 0.6098 - loss: 0.6657 - val_accuracy: 0.6907 - val_loss: 0.5977\n",
            "Epoch 2/30\n",
            "\u001b[1m266/266\u001b[0m \u001b[32m━━━━━━━━━━━━━━━━━━━━\u001b[0m\u001b[37m\u001b[0m \u001b[1m1s\u001b[0m 5ms/step - accuracy: 0.6649 - loss: 0.6169 - val_accuracy: 0.7010 - val_loss: 0.5869\n",
            "Epoch 3/30\n",
            "\u001b[1m266/266\u001b[0m \u001b[32m━━━━━━━━━━━━━━━━━━━━\u001b[0m\u001b[37m\u001b[0m \u001b[1m1s\u001b[0m 4ms/step - accuracy: 0.6870 - loss: 0.6039 - val_accuracy: 0.7090 - val_loss: 0.5820\n",
            "Epoch 4/30\n",
            "\u001b[1m266/266\u001b[0m \u001b[32m━━━━━━━━━━━━━━━━━━━━\u001b[0m\u001b[37m\u001b[0m \u001b[1m1s\u001b[0m 3ms/step - accuracy: 0.6784 - loss: 0.5979 - val_accuracy: 0.7119 - val_loss: 0.5794\n",
            "Epoch 5/30\n",
            "\u001b[1m266/266\u001b[0m \u001b[32m━━━━━━━━━━━━━━━━━━━━\u001b[0m\u001b[37m\u001b[0m \u001b[1m1s\u001b[0m 3ms/step - accuracy: 0.7035 - loss: 0.5793 - val_accuracy: 0.7109 - val_loss: 0.5796\n",
            "Epoch 6/30\n",
            "\u001b[1m266/266\u001b[0m \u001b[32m━━━━━━━━━━━━━━━━━━━━\u001b[0m\u001b[37m\u001b[0m \u001b[1m1s\u001b[0m 3ms/step - accuracy: 0.6909 - loss: 0.5882 - val_accuracy: 0.7067 - val_loss: 0.5769\n",
            "Epoch 7/30\n",
            "\u001b[1m266/266\u001b[0m \u001b[32m━━━━━━━━━━━━━━━━━━━━\u001b[0m\u001b[37m\u001b[0m \u001b[1m1s\u001b[0m 2ms/step - accuracy: 0.7003 - loss: 0.5844 - val_accuracy: 0.7133 - val_loss: 0.5711\n",
            "Epoch 8/30\n",
            "\u001b[1m266/266\u001b[0m \u001b[32m━━━━━━━━━━━━━━━━━━━━\u001b[0m\u001b[37m\u001b[0m \u001b[1m1s\u001b[0m 3ms/step - accuracy: 0.6984 - loss: 0.5763 - val_accuracy: 0.7128 - val_loss: 0.5716\n",
            "Epoch 9/30\n",
            "\u001b[1m266/266\u001b[0m \u001b[32m━━━━━━━━━━━━━━━━━━━━\u001b[0m\u001b[37m\u001b[0m \u001b[1m1s\u001b[0m 3ms/step - accuracy: 0.7067 - loss: 0.5776 - val_accuracy: 0.7090 - val_loss: 0.5705\n",
            "Epoch 10/30\n",
            "\u001b[1m266/266\u001b[0m \u001b[32m━━━━━━━━━━━━━━━━━━━━\u001b[0m\u001b[37m\u001b[0m \u001b[1m1s\u001b[0m 3ms/step - accuracy: 0.6949 - loss: 0.5861 - val_accuracy: 0.7119 - val_loss: 0.5670\n",
            "Epoch 11/30\n",
            "\u001b[1m266/266\u001b[0m \u001b[32m━━━━━━━━━━━━━━━━━━━━\u001b[0m\u001b[37m\u001b[0m \u001b[1m1s\u001b[0m 3ms/step - accuracy: 0.6969 - loss: 0.5727 - val_accuracy: 0.7133 - val_loss: 0.5681\n",
            "Epoch 12/30\n",
            "\u001b[1m266/266\u001b[0m \u001b[32m━━━━━━━━━━━━━━━━━━━━\u001b[0m\u001b[37m\u001b[0m \u001b[1m1s\u001b[0m 3ms/step - accuracy: 0.7079 - loss: 0.5699 - val_accuracy: 0.7109 - val_loss: 0.5689\n",
            "Epoch 13/30\n",
            "\u001b[1m266/266\u001b[0m \u001b[32m━━━━━━━━━━━━━━━━━━━━\u001b[0m\u001b[37m\u001b[0m \u001b[1m1s\u001b[0m 3ms/step - accuracy: 0.7134 - loss: 0.5653 - val_accuracy: 0.7105 - val_loss: 0.5672\n",
            "Epoch 14/30\n",
            "\u001b[1m266/266\u001b[0m \u001b[32m━━━━━━━━━━━━━━━━━━━━\u001b[0m\u001b[37m\u001b[0m \u001b[1m1s\u001b[0m 5ms/step - accuracy: 0.7055 - loss: 0.5686 - val_accuracy: 0.7095 - val_loss: 0.5658\n",
            "Epoch 15/30\n",
            "\u001b[1m266/266\u001b[0m \u001b[32m━━━━━━━━━━━━━━━━━━━━\u001b[0m\u001b[37m\u001b[0m \u001b[1m1s\u001b[0m 5ms/step - accuracy: 0.7040 - loss: 0.5638 - val_accuracy: 0.7142 - val_loss: 0.5640\n",
            "Epoch 16/30\n",
            "\u001b[1m266/266\u001b[0m \u001b[32m━━━━━━━━━━━━━━━━━━━━\u001b[0m\u001b[37m\u001b[0m \u001b[1m1s\u001b[0m 4ms/step - accuracy: 0.7048 - loss: 0.5714 - val_accuracy: 0.7100 - val_loss: 0.5632\n",
            "Epoch 17/30\n",
            "\u001b[1m266/266\u001b[0m \u001b[32m━━━━━━━━━━━━━━━━━━━━\u001b[0m\u001b[37m\u001b[0m \u001b[1m1s\u001b[0m 3ms/step - accuracy: 0.7088 - loss: 0.5647 - val_accuracy: 0.7105 - val_loss: 0.5643\n",
            "Epoch 18/30\n",
            "\u001b[1m266/266\u001b[0m \u001b[32m━━━━━━━━━━━━━━━━━━━━\u001b[0m\u001b[37m\u001b[0m \u001b[1m1s\u001b[0m 3ms/step - accuracy: 0.7119 - loss: 0.5603 - val_accuracy: 0.7053 - val_loss: 0.5642\n",
            "Epoch 19/30\n",
            "\u001b[1m266/266\u001b[0m \u001b[32m━━━━━━━━━━━━━━━━━━━━\u001b[0m\u001b[37m\u001b[0m \u001b[1m1s\u001b[0m 3ms/step - accuracy: 0.7032 - loss: 0.5568 - val_accuracy: 0.7105 - val_loss: 0.5640\n",
            "Epoch 20/30\n",
            "\u001b[1m266/266\u001b[0m \u001b[32m━━━━━━━━━━━━━━━━━━━━\u001b[0m\u001b[37m\u001b[0m \u001b[1m1s\u001b[0m 3ms/step - accuracy: 0.7048 - loss: 0.5655 - val_accuracy: 0.7109 - val_loss: 0.5640\n",
            "Epoch 21/30\n",
            "\u001b[1m266/266\u001b[0m \u001b[32m━━━━━━━━━━━━━━━━━━━━\u001b[0m\u001b[37m\u001b[0m \u001b[1m1s\u001b[0m 3ms/step - accuracy: 0.7033 - loss: 0.5719 - val_accuracy: 0.7133 - val_loss: 0.5628\n",
            "Epoch 22/30\n",
            "\u001b[1m266/266\u001b[0m \u001b[32m━━━━━━━━━━━━━━━━━━━━\u001b[0m\u001b[37m\u001b[0m \u001b[1m1s\u001b[0m 3ms/step - accuracy: 0.7117 - loss: 0.5585 - val_accuracy: 0.7142 - val_loss: 0.5636\n",
            "Epoch 23/30\n",
            "\u001b[1m266/266\u001b[0m \u001b[32m━━━━━━━━━━━━━━━━━━━━\u001b[0m\u001b[37m\u001b[0m \u001b[1m1s\u001b[0m 3ms/step - accuracy: 0.7092 - loss: 0.5550 - val_accuracy: 0.7100 - val_loss: 0.5645\n",
            "Epoch 24/30\n",
            "\u001b[1m266/266\u001b[0m \u001b[32m━━━━━━━━━━━━━━━━━━━━\u001b[0m\u001b[37m\u001b[0m \u001b[1m1s\u001b[0m 3ms/step - accuracy: 0.7123 - loss: 0.5554 - val_accuracy: 0.7161 - val_loss: 0.5656\n",
            "Epoch 25/30\n",
            "\u001b[1m266/266\u001b[0m \u001b[32m━━━━━━━━━━━━━━━━━━━━\u001b[0m\u001b[37m\u001b[0m \u001b[1m1s\u001b[0m 3ms/step - accuracy: 0.7169 - loss: 0.5569 - val_accuracy: 0.7095 - val_loss: 0.5638\n",
            "Epoch 26/30\n",
            "\u001b[1m266/266\u001b[0m \u001b[32m━━━━━━━━━━━━━━━━━━━━\u001b[0m\u001b[37m\u001b[0m \u001b[1m2s\u001b[0m 4ms/step - accuracy: 0.7101 - loss: 0.5661 - val_accuracy: 0.7161 - val_loss: 0.5641\n",
            "Epoch 27/30\n",
            "\u001b[1m266/266\u001b[0m \u001b[32m━━━━━━━━━━━━━━━━━━━━\u001b[0m\u001b[37m\u001b[0m \u001b[1m1s\u001b[0m 5ms/step - accuracy: 0.6973 - loss: 0.5673 - val_accuracy: 0.7133 - val_loss: 0.5652\n",
            "Epoch 28/30\n",
            "\u001b[1m266/266\u001b[0m \u001b[32m━━━━━━━━━━━━━━━━━━━━\u001b[0m\u001b[37m\u001b[0m \u001b[1m2s\u001b[0m 3ms/step - accuracy: 0.7123 - loss: 0.5625 - val_accuracy: 0.7109 - val_loss: 0.5645\n",
            "Epoch 29/30\n",
            "\u001b[1m266/266\u001b[0m \u001b[32m━━━━━━━━━━━━━━━━━━━━\u001b[0m\u001b[37m\u001b[0m \u001b[1m1s\u001b[0m 3ms/step - accuracy: 0.7069 - loss: 0.5628 - val_accuracy: 0.7147 - val_loss: 0.5661\n",
            "Epoch 30/30\n",
            "\u001b[1m266/266\u001b[0m \u001b[32m━━━━━━━━━━━━━━━━━━━━\u001b[0m\u001b[37m\u001b[0m \u001b[1m1s\u001b[0m 3ms/step - accuracy: 0.7149 - loss: 0.5530 - val_accuracy: 0.7086 - val_loss: 0.5656\n",
            "\u001b[1m83/83\u001b[0m \u001b[32m━━━━━━━━━━━━━━━━━━━━\u001b[0m\u001b[37m\u001b[0m \u001b[1m0s\u001b[0m 2ms/step\n",
            "Accuracy : 0.7080979284369114\n",
            "Classification Report:\n",
            "               precision    recall  f1-score   support\n",
            "\n",
            "           0       0.70      0.73      0.71      1323\n",
            "           1       0.72      0.68      0.70      1332\n",
            "\n",
            "    accuracy                           0.71      2655\n",
            "   macro avg       0.71      0.71      0.71      2655\n",
            "weighted avg       0.71      0.71      0.71      2655\n",
            "\n"
          ]
        }
      ]
    },
    {
      "cell_type": "code",
      "source": [
        "#Testing with Sample Values\n",
        "\n",
        "import numpy as np\n",
        "new_input= np.array([[150000, 2, 2, 1, 45,\n",
        "     -1, -1, -1, -1, -1, -1,\n",
        "     2605, 2605, 4590, 2605, 2605, 3795,\n",
        "     2605, 4590, 2605, 2605, 3795, 10675]])\n",
        "\n",
        "new_input_scaled = scaler.transform(new_input)\n",
        "prediction = model.predict(new_input_scaled)\n",
        "print(\"Will Default\" if prediction[0][0] > 0.5 else \"Will Not Default\")\n"
      ],
      "metadata": {
        "colab": {
          "base_uri": "https://localhost:8080/"
        },
        "collapsed": true,
        "id": "1p1pKP7nYop4",
        "outputId": "e7252fad-9561-4774-936d-ebbe02bb29e8"
      },
      "execution_count": null,
      "outputs": [
        {
          "output_type": "stream",
          "name": "stdout",
          "text": [
            "\u001b[1m1/1\u001b[0m \u001b[32m━━━━━━━━━━━━━━━━━━━━\u001b[0m\u001b[37m\u001b[0m \u001b[1m0s\u001b[0m 38ms/step\n",
            "Will Not Default\n"
          ]
        },
        {
          "output_type": "stream",
          "name": "stderr",
          "text": [
            "/usr/local/lib/python3.11/dist-packages/sklearn/utils/validation.py:2739: UserWarning: X does not have valid feature names, but StandardScaler was fitted with feature names\n",
            "  warnings.warn(\n"
          ]
        }
      ]
    },
    {
      "cell_type": "code",
      "source": [
        "import joblib\n",
        "joblib.dump(scaler,'scaler.save')\n",
        "joblib.dump(model,'model.save')\n"
      ],
      "metadata": {
        "colab": {
          "base_uri": "https://localhost:8080/"
        },
        "id": "OyYY6YvIt7Oo",
        "outputId": "56ddbdce-e93c-48a1-f2d1-891dab1b9edb"
      },
      "execution_count": null,
      "outputs": [
        {
          "output_type": "execute_result",
          "data": {
            "text/plain": [
              "['model.save']"
            ]
          },
          "metadata": {},
          "execution_count": 5
        }
      ]
    },
    {
      "cell_type": "code",
      "source": [
        "!pip install streamlit\n",
        "!pip install pyngrok\n",
        "\n"
      ],
      "metadata": {
        "colab": {
          "base_uri": "https://localhost:8080/"
        },
        "collapsed": true,
        "id": "PvL9cNJeuFXP",
        "outputId": "6907b378-aa2e-4d40-c8f8-896c65942226"
      },
      "execution_count": null,
      "outputs": [
        {
          "output_type": "stream",
          "name": "stdout",
          "text": [
            "Collecting streamlit\n",
            "  Downloading streamlit-1.45.1-py3-none-any.whl.metadata (8.9 kB)\n",
            "Requirement already satisfied: altair<6,>=4.0 in /usr/local/lib/python3.11/dist-packages (from streamlit) (5.5.0)\n",
            "Requirement already satisfied: blinker<2,>=1.5.0 in /usr/local/lib/python3.11/dist-packages (from streamlit) (1.9.0)\n",
            "Requirement already satisfied: cachetools<6,>=4.0 in /usr/local/lib/python3.11/dist-packages (from streamlit) (5.5.2)\n",
            "Requirement already satisfied: click<9,>=7.0 in /usr/local/lib/python3.11/dist-packages (from streamlit) (8.2.1)\n",
            "Requirement already satisfied: numpy<3,>=1.23 in /usr/local/lib/python3.11/dist-packages (from streamlit) (2.0.2)\n",
            "Requirement already satisfied: packaging<25,>=20 in /usr/local/lib/python3.11/dist-packages (from streamlit) (24.2)\n",
            "Requirement already satisfied: pandas<3,>=1.4.0 in /usr/local/lib/python3.11/dist-packages (from streamlit) (2.2.2)\n",
            "Requirement already satisfied: pillow<12,>=7.1.0 in /usr/local/lib/python3.11/dist-packages (from streamlit) (11.2.1)\n",
            "Requirement already satisfied: protobuf<7,>=3.20 in /usr/local/lib/python3.11/dist-packages (from streamlit) (5.29.5)\n",
            "Requirement already satisfied: pyarrow>=7.0 in /usr/local/lib/python3.11/dist-packages (from streamlit) (18.1.0)\n",
            "Requirement already satisfied: requests<3,>=2.27 in /usr/local/lib/python3.11/dist-packages (from streamlit) (2.32.3)\n",
            "Requirement already satisfied: tenacity<10,>=8.1.0 in /usr/local/lib/python3.11/dist-packages (from streamlit) (9.1.2)\n",
            "Requirement already satisfied: toml<2,>=0.10.1 in /usr/local/lib/python3.11/dist-packages (from streamlit) (0.10.2)\n",
            "Requirement already satisfied: typing-extensions<5,>=4.4.0 in /usr/local/lib/python3.11/dist-packages (from streamlit) (4.14.0)\n",
            "Collecting watchdog<7,>=2.1.5 (from streamlit)\n",
            "  Downloading watchdog-6.0.0-py3-none-manylinux2014_x86_64.whl.metadata (44 kB)\n",
            "\u001b[2K     \u001b[90m━━━━━━━━━━━━━━━━━━━━━━━━━━━━━━━━━━━━━━━━\u001b[0m \u001b[32m44.3/44.3 kB\u001b[0m \u001b[31m2.3 MB/s\u001b[0m eta \u001b[36m0:00:00\u001b[0m\n",
            "\u001b[?25hRequirement already satisfied: gitpython!=3.1.19,<4,>=3.0.7 in /usr/local/lib/python3.11/dist-packages (from streamlit) (3.1.44)\n",
            "Collecting pydeck<1,>=0.8.0b4 (from streamlit)\n",
            "  Downloading pydeck-0.9.1-py2.py3-none-any.whl.metadata (4.1 kB)\n",
            "Requirement already satisfied: tornado<7,>=6.0.3 in /usr/local/lib/python3.11/dist-packages (from streamlit) (6.4.2)\n",
            "Requirement already satisfied: jinja2 in /usr/local/lib/python3.11/dist-packages (from altair<6,>=4.0->streamlit) (3.1.6)\n",
            "Requirement already satisfied: jsonschema>=3.0 in /usr/local/lib/python3.11/dist-packages (from altair<6,>=4.0->streamlit) (4.24.0)\n",
            "Requirement already satisfied: narwhals>=1.14.2 in /usr/local/lib/python3.11/dist-packages (from altair<6,>=4.0->streamlit) (1.41.0)\n",
            "Requirement already satisfied: gitdb<5,>=4.0.1 in /usr/local/lib/python3.11/dist-packages (from gitpython!=3.1.19,<4,>=3.0.7->streamlit) (4.0.12)\n",
            "Requirement already satisfied: python-dateutil>=2.8.2 in /usr/local/lib/python3.11/dist-packages (from pandas<3,>=1.4.0->streamlit) (2.9.0.post0)\n",
            "Requirement already satisfied: pytz>=2020.1 in /usr/local/lib/python3.11/dist-packages (from pandas<3,>=1.4.0->streamlit) (2025.2)\n",
            "Requirement already satisfied: tzdata>=2022.7 in /usr/local/lib/python3.11/dist-packages (from pandas<3,>=1.4.0->streamlit) (2025.2)\n",
            "Requirement already satisfied: charset-normalizer<4,>=2 in /usr/local/lib/python3.11/dist-packages (from requests<3,>=2.27->streamlit) (3.4.2)\n",
            "Requirement already satisfied: idna<4,>=2.5 in /usr/local/lib/python3.11/dist-packages (from requests<3,>=2.27->streamlit) (3.10)\n",
            "Requirement already satisfied: urllib3<3,>=1.21.1 in /usr/local/lib/python3.11/dist-packages (from requests<3,>=2.27->streamlit) (2.4.0)\n",
            "Requirement already satisfied: certifi>=2017.4.17 in /usr/local/lib/python3.11/dist-packages (from requests<3,>=2.27->streamlit) (2025.4.26)\n",
            "Requirement already satisfied: smmap<6,>=3.0.1 in /usr/local/lib/python3.11/dist-packages (from gitdb<5,>=4.0.1->gitpython!=3.1.19,<4,>=3.0.7->streamlit) (5.0.2)\n",
            "Requirement already satisfied: MarkupSafe>=2.0 in /usr/local/lib/python3.11/dist-packages (from jinja2->altair<6,>=4.0->streamlit) (3.0.2)\n",
            "Requirement already satisfied: attrs>=22.2.0 in /usr/local/lib/python3.11/dist-packages (from jsonschema>=3.0->altair<6,>=4.0->streamlit) (25.3.0)\n",
            "Requirement already satisfied: jsonschema-specifications>=2023.03.6 in /usr/local/lib/python3.11/dist-packages (from jsonschema>=3.0->altair<6,>=4.0->streamlit) (2025.4.1)\n",
            "Requirement already satisfied: referencing>=0.28.4 in /usr/local/lib/python3.11/dist-packages (from jsonschema>=3.0->altair<6,>=4.0->streamlit) (0.36.2)\n",
            "Requirement already satisfied: rpds-py>=0.7.1 in /usr/local/lib/python3.11/dist-packages (from jsonschema>=3.0->altair<6,>=4.0->streamlit) (0.25.1)\n",
            "Requirement already satisfied: six>=1.5 in /usr/local/lib/python3.11/dist-packages (from python-dateutil>=2.8.2->pandas<3,>=1.4.0->streamlit) (1.17.0)\n",
            "Downloading streamlit-1.45.1-py3-none-any.whl (9.9 MB)\n",
            "\u001b[2K   \u001b[90m━━━━━━━━━━━━━━━━━━━━━━━━━━━━━━━━━━━━━━━━\u001b[0m \u001b[32m9.9/9.9 MB\u001b[0m \u001b[31m40.5 MB/s\u001b[0m eta \u001b[36m0:00:00\u001b[0m\n",
            "\u001b[?25hDownloading pydeck-0.9.1-py2.py3-none-any.whl (6.9 MB)\n",
            "\u001b[2K   \u001b[90m━━━━━━━━━━━━━━━━━━━━━━━━━━━━━━━━━━━━━━━━\u001b[0m \u001b[32m6.9/6.9 MB\u001b[0m \u001b[31m51.9 MB/s\u001b[0m eta \u001b[36m0:00:00\u001b[0m\n",
            "\u001b[?25hDownloading watchdog-6.0.0-py3-none-manylinux2014_x86_64.whl (79 kB)\n",
            "\u001b[2K   \u001b[90m━━━━━━━━━━━━━━━━━━━━━━━━━━━━━━━━━━━━━━━━\u001b[0m \u001b[32m79.1/79.1 kB\u001b[0m \u001b[31m6.3 MB/s\u001b[0m eta \u001b[36m0:00:00\u001b[0m\n",
            "\u001b[?25hInstalling collected packages: watchdog, pydeck, streamlit\n",
            "Successfully installed pydeck-0.9.1 streamlit-1.45.1 watchdog-6.0.0\n",
            "Collecting pyngrok\n",
            "  Downloading pyngrok-7.2.11-py3-none-any.whl.metadata (9.4 kB)\n",
            "Requirement already satisfied: PyYAML>=5.1 in /usr/local/lib/python3.11/dist-packages (from pyngrok) (6.0.2)\n",
            "Downloading pyngrok-7.2.11-py3-none-any.whl (25 kB)\n",
            "Installing collected packages: pyngrok\n",
            "Successfully installed pyngrok-7.2.11\n"
          ]
        }
      ]
    },
    {
      "cell_type": "code",
      "source": [
        "!pip install joblib"
      ],
      "metadata": {
        "colab": {
          "base_uri": "https://localhost:8080/"
        },
        "id": "uto6jtdo8-TK",
        "outputId": "5eaaca58-c569-46e6-e9bc-cccc01c43726"
      },
      "execution_count": null,
      "outputs": [
        {
          "output_type": "stream",
          "name": "stdout",
          "text": [
            "Requirement already satisfied: joblib in /usr/local/lib/python3.11/dist-packages (1.5.1)\n"
          ]
        }
      ]
    },
    {
      "cell_type": "code",
      "source": [
        "import streamlit as st\n",
        "st.write(\"Input shape:\", input_data.shape)\n",
        "st.write(\"Scaler mean shape:\", scaler.mean_.shape)\n"
      ],
      "metadata": {
        "colab": {
          "base_uri": "https://localhost:8080/",
          "height": 176
        },
        "id": "H0R54xI5bTOC",
        "outputId": "9e094214-0aa9-440d-b4bb-28b3519a2998"
      },
      "execution_count": null,
      "outputs": [
        {
          "output_type": "error",
          "ename": "NameError",
          "evalue": "name 'input_data' is not defined",
          "traceback": [
            "\u001b[0;31m---------------------------------------------------------------------------\u001b[0m",
            "\u001b[0;31mNameError\u001b[0m                                 Traceback (most recent call last)",
            "\u001b[0;32m<ipython-input-8-7d1c13e6a99a>\u001b[0m in \u001b[0;36m<cell line: 0>\u001b[0;34m()\u001b[0m\n\u001b[1;32m      1\u001b[0m \u001b[0;32mimport\u001b[0m \u001b[0mstreamlit\u001b[0m \u001b[0;32mas\u001b[0m \u001b[0mst\u001b[0m\u001b[0;34m\u001b[0m\u001b[0;34m\u001b[0m\u001b[0m\n\u001b[0;32m----> 2\u001b[0;31m \u001b[0mst\u001b[0m\u001b[0;34m.\u001b[0m\u001b[0mwrite\u001b[0m\u001b[0;34m(\u001b[0m\u001b[0;34m\"Input shape:\"\u001b[0m\u001b[0;34m,\u001b[0m \u001b[0minput_data\u001b[0m\u001b[0;34m.\u001b[0m\u001b[0mshape\u001b[0m\u001b[0;34m)\u001b[0m\u001b[0;34m\u001b[0m\u001b[0;34m\u001b[0m\u001b[0m\n\u001b[0m\u001b[1;32m      3\u001b[0m \u001b[0mst\u001b[0m\u001b[0;34m.\u001b[0m\u001b[0mwrite\u001b[0m\u001b[0;34m(\u001b[0m\u001b[0;34m\"Scaler mean shape:\"\u001b[0m\u001b[0;34m,\u001b[0m \u001b[0mscaler\u001b[0m\u001b[0;34m.\u001b[0m\u001b[0mmean_\u001b[0m\u001b[0;34m.\u001b[0m\u001b[0mshape\u001b[0m\u001b[0;34m)\u001b[0m\u001b[0;34m\u001b[0m\u001b[0;34m\u001b[0m\u001b[0m\n",
            "\u001b[0;31mNameError\u001b[0m: name 'input_data' is not defined"
          ]
        }
      ]
    },
    {
      "cell_type": "code",
      "source": [
        "=%%writefile app.py\n",
        "\n",
        "import streamlit as st\n",
        "import joblib\n",
        "import numpy as np\n",
        "\n",
        "scaler = joblib.load('/content/scaler.save')\n",
        "model= joblib.load('/content/model.save')\n",
        "st.title(\"Credit Card Default Prediction\")\n",
        "st.markdown(\"\"\"\n",
        "This app predicts the likelihood of a credit card customer defaulting on their payments based on financial history and profile information.\n",
        "\"\"\")\n",
        "sex_options = {\n",
        "    \"Male (1)\": 1,\n",
        "    \"Female (2)\": 2\n",
        "}\n",
        "\n",
        "education_options = {\n",
        "    \"Graduate School (1)\": 1,\n",
        "    \"University (2)\": 2,\n",
        "    \"High School (3)\": 3,\n",
        "    \"Others (4)\": 4\n",
        "}\n",
        "\n",
        "marriage_options = {\n",
        "    \"Married (1)\": 1,\n",
        "    \"Single (2)\": 2,\n",
        "    \"Others (3)\": 3\n",
        "}\n",
        "\n",
        "pay_status_options = [-2, -1, 0, 1, 2, 3, 4, 5, 6, 7, 8, 9]  # meaning from dataset\n",
        "LIMIT_BAL = st.number_input(\"Credit Limit\", min_value=0, value=20000)\n",
        "SEX = sex_options[st.selectbox(\"SEX\", options=list(sex_options.keys()))]\n",
        "EDUCATION = education_options[st.selectbox(\"Education Level\", options=list(education_options.keys()))]\n",
        "MARRIAGE = marriage_options[st.selectbox(\"Marital Status\", options=list(marriage_options.keys()))]\n",
        "AGE = st.number_input(\"Age\", min_value=18, max_value=100, value=30)\n",
        "\n",
        "# Repayment status inputs\n",
        "PAY_0 = st.selectbox(\"Repayment Status in September \", options=pay_status_options)\n",
        "PAY_2 = st.selectbox(\"Repayment Status in August \", options=pay_status_options)\n",
        "PAY_3 = st.selectbox(\"Repayment Status in July \", options=pay_status_options)\n",
        "PAY_4 = st.selectbox(\"Repayment Status in June\", options=pay_status_options)\n",
        "PAY_5 = st.selectbox(\"Repayment Status in May\", options=pay_status_options)\n",
        "PAY_6 = st.selectbox(\"Repayment Status in April\", options=pay_status_options)\n",
        "\n",
        "# Bill Amounts\n",
        "BILL_AMT1 = st.number_input(\"Bill Amount in September \", value=0)\n",
        "BILL_AMT2 = st.number_input(\"Bill Amount in August\", value=0)\n",
        "BILL_AMT3 = st.number_input(\"Bill Amount in July \", value=0)\n",
        "BILL_AMT4 = st.number_input(\"Bill Amount in June\", value=0)\n",
        "BILL_AMT5 = st.number_input(\"Bill Amount in May \", value=0)\n",
        "BILL_AMT6 = st.number_input(\"Bill Amount in April \", value=0)\n",
        "\n",
        "# Payment Amounts\n",
        "PAY_AMT1 = st.number_input(\"Payment in September \", value=0)\n",
        "PAY_AMT2 = st.number_input(\"Payment in August \", value=0)\n",
        "PAY_AMT3 = st.number_input(\"Payment in July \", value=0)\n",
        "PAY_AMT4 = st.number_input(\"Payment in June \", value=0)\n",
        "PAY_AMT5 = st.number_input(\"Payment in May \", value=0)\n",
        "PAY_AMT6 = st.number_input(\"Payment in April \", value=0)\n",
        "\n",
        "\n",
        "if st.button(\" Predict Default Risk\"):\n",
        "    input_data = np.array([[LIMIT_BAL, SEX, EDUCATION, MARRIAGE, AGE,\n",
        "                            PAY_0, PAY_2, PAY_3, PAY_4, PAY_5, PAY_6,\n",
        "                            BILL_AMT1, BILL_AMT2, BILL_AMT3, BILL_AMT4, BILL_AMT5, BILL_AMT6,\n",
        "                            PAY_AMT1, PAY_AMT2, PAY_AMT3, PAY_AMT4, PAY_AMT5, PAY_AMT6]],dtype=np.float64)\n",
        "\n",
        "    input_scaled = scaler.transform(input_data)\n",
        "    prediction = model.predict(input_scaled)[0]\n",
        "\n",
        "\n",
        "    if prediction == 1:\n",
        "        st.error(\"Prediction: High risk of default.\")\n",
        "    else:\n",
        "        st.success(\"Prediction: Low risk of default.\")\n"
      ],
      "metadata": {
        "id": "Rg9ctA0yuK62"
      },
      "execution_count": null,
      "outputs": []
    },
    {
      "cell_type": "code",
      "source": [
        "!pip install streamlit pyngrok joblib\n",
        "\n",
        "!streamlit run app.py &> streamlit.log &\n"
      ],
      "metadata": {
        "id": "u2pUOSF_RtmH"
      },
      "execution_count": null,
      "outputs": []
    },
    {
      "cell_type": "code",
      "source": [
        "!pip install pyngrok --quiet\n",
        "!ngrok authtoken 2xwzLbK7haml4irSnR8OUbZdEBE_6eJWnALa91KrPp7XQwuvk\n",
        "# ✅ Import and connect ngrok\n",
        "from pyngrok import ngrok\n",
        "ngrok.kill()  # close previous tunnels if any\n",
        "\n",
        "# ✅ Create tunnel to default Streamlit port 8501\n",
        "public_url = ngrok.connect(8501)\n",
        "print(\"🔗 Streamlit app is live at:\", public_url)"
      ],
      "metadata": {
        "id": "z14Qa1ge6Xqd"
      },
      "execution_count": null,
      "outputs": []
    },
    {
      "cell_type": "code",
      "source": [],
      "metadata": {
        "id": "z1P1_pV-bJZ4"
      },
      "execution_count": null,
      "outputs": []
    }
  ]
}